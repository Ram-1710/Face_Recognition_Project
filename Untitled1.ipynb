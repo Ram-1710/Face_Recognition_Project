{
  "nbformat": 4,
  "nbformat_minor": 0,
  "metadata": {
    "colab": {
      "name": "Untitled1.ipynb",
      "provenance": [],
      "collapsed_sections": [],
      "toc_visible": true,
      "authorship_tag": "ABX9TyPHtmdQuVOwiMt9b5QYtine",
      "include_colab_link": true
    },
    "kernelspec": {
      "name": "python3",
      "display_name": "Python 3"
    },
    "language_info": {
      "name": "python"
    }
  },
  "cells": [
    {
      "cell_type": "markdown",
      "metadata": {
        "id": "view-in-github",
        "colab_type": "text"
      },
      "source": [
        "<a href=\"https://colab.research.google.com/github/Ram-1710/Face_Recognition_Project/blob/main/Untitled1.ipynb\" target=\"_parent\"><img src=\"https://colab.research.google.com/assets/colab-badge.svg\" alt=\"Open In Colab\"/></a>"
      ]
    },
    {
      "cell_type": "code",
      "execution_count": 37,
      "metadata": {
        "id": "ctUtUvulTWmF"
      },
      "outputs": [],
      "source": [
        "# DataFlair Iris Flower Classification\n",
        "# Import Packages\n",
        "import numpy as np\n",
        "import matplotlib.pyplot as plt\n",
        "import seaborn as sns\n",
        "import pandas as pd\n",
        "%matplotlib inline"
      ]
    },
    {
      "cell_type": "code",
      "source": [
        " columns = ['Sepal length', 'Sepal width', 'Petal length', 'Petal width', 'Class_labels'] \n",
        "# Load the data\n",
        "df = pd.read_csv('iris.data', names=columns)\n",
        "df.head()"
      ],
      "metadata": {
        "id": "wmqiLYHPTdcA"
      },
      "execution_count": null,
      "outputs": []
    },
    {
      "cell_type": "code",
      "source": [
        "# Some basic statistical analysis about the data\n",
        "df.describe()"
      ],
      "metadata": {
        "id": "B8xdvrV0YPgD"
      },
      "execution_count": null,
      "outputs": []
    },
    {
      "cell_type": "code",
      "source": [
        "# Visualize the whole dataset\n",
        "sns.pairplot(df, hue='Class_labels')"
      ],
      "metadata": {
        "id": "eTZZNy8mY4MF"
      },
      "execution_count": null,
      "outputs": []
    },
    {
      "cell_type": "code",
      "source": [
        "# Separate features and target  \n",
        "data = df.values\n",
        "X = data[:,0:4]\n",
        "Y = data[:,4]"
      ],
      "metadata": {
        "id": "-fGw3j0xeEwT"
      },
      "execution_count": 43,
      "outputs": []
    },
    {
      "cell_type": "code",
      "source": [
        "# Calculate average of each features for all classes\n",
        "Y_Data = np.array([np.average(X[:, i][Y==j].astype('float32')) for i in range (X.shape[1])\n",
        " for j in (np.unique(Y))])\n",
        "Y_Data_reshaped = Y_Data.reshape(4, 3)\n",
        "Y_Data_reshaped = np.swapaxes(Y_Data_reshaped, 0, 1)\n",
        "X_axis = np.arange(len(columns)-1)\n",
        "width = 0.25"
      ],
      "metadata": {
        "id": "ssGTSzaHfhRK"
      },
      "execution_count": 44,
      "outputs": []
    },
    {
      "cell_type": "code",
      "source": [
        "# Plot the average\n",
        "plt.bar(X_axis, Y_Data_reshaped[0], width, label = 'Setosa')\n",
        "plt.bar(X_axis+width, Y_Data_reshaped[1], width, label = 'Versicolour')\n",
        "plt.bar(X_axis+width*2, Y_Data_reshaped[2], width, label = 'Virginica')\n",
        "plt.xticks(X_axis, columns[:4])\n",
        "plt.xlabel(\"Features\")\n",
        "plt.ylabel(\"Value in cm.\")\n",
        "plt.legend(bbox_to_anchor=(1.3,1))\n",
        "plt.show()"
      ],
      "metadata": {
        "colab": {
          "base_uri": "https://localhost:8080/",
          "height": 279
        },
        "id": "HDvKhxFHljDJ",
        "outputId": "a1e9ae49-f500-4739-e621-155c07b3cb97"
      },
      "execution_count": 45,
      "outputs": [
        {
          "output_type": "display_data",
          "data": {
            "text/plain": [
              "<Figure size 432x288 with 1 Axes>"
            ],
            "image/png": "[encoded data removed]"
          },
          "metadata": {
            "needs_background": "light"
          }
        }
      ]
    },
    {
      "cell_type": "markdown",
      "source": [
        "STEP3: MODEL TRAINING"
      ],
      "metadata": {
        "id": "CmIRXNdbvYNx"
      }
    },
    {
      "cell_type": "code",
      "source": [
        "# Split the data to train and test dataset.\n",
        "from sklearn.model_selection import train_test_split\n",
        "X_train, X_test, y_train, y_test = train_test_split(X, Y, test_size=0.2)"
      ],
      "metadata": {
        "id": "TRcited9vgzO"
      },
      "execution_count": 53,
      "outputs": []
    },
    {
      "cell_type": "code",
      "source": [
        "# Support vector machine algorithm\n",
        "from sklearn.svm import SVC\n",
        "svn = SVC()\n",
        "svn.fit(X_train, y_train)"
      ],
      "metadata": {
        "colab": {
          "base_uri": "https://localhost:8080/"
        },
        "id": "uhVI7Vw4vmfS",
        "outputId": "c28b055c-45ff-4425-d352-e823e9ca2b62"
      },
      "execution_count": 52,
      "outputs": [
        {
          "output_type": "execute_result",
          "data": {
            "text/plain": [
              "SVC()"
            ]
          },
          "metadata": {},
          "execution_count": 52
        }
      ]
    },
    {
      "cell_type": "markdown",
      "source": [
        "STEP4: MODEL Evaluation"
      ],
      "metadata": {
        "id": "xKo_kf8uwIHG"
      }
    },
    {
      "cell_type": "code",
      "source": [
        "# Predict from the test dataset\n",
        "predictions = svn.predict(X_test)\n",
        "\n",
        "# Calculate the accuracy\n",
        "from sklearn.metrics import accuracy_score\n",
        "accuracy_score(y_test, predictions)"
      ],
      "metadata": {
        "colab": {
          "base_uri": "https://localhost:8080/"
        },
        "id": "3jp4BPbVwSZc",
        "outputId": "dcd4a659-cb85-43cb-a5f6-7421e1a04de8"
      },
      "execution_count": 56,
      "outputs": [
        {
          "output_type": "execute_result",
          "data": {
            "text/plain": [
              "0.9666666666666667"
            ]
          },
          "metadata": {},
          "execution_count": 56
        }
      ]
    },
    {
      "cell_type": "code",
      "source": [
        "X_new = np.array([[3, 2, 1, 0.2], [  4.9, 2.2, 3.8, 1.1 ], [  5.3, 2.5, 4.6, 1.9 ]])\n",
        "#Prediction of the species from the input vector\n",
        "prediction = svn.predict(X_new)\n",
        "print(\"Prediction of Species: {}\".format(prediction))"
      ],
      "metadata": {
        "colab": {
          "base_uri": "https://localhost:8080/"
        },
        "id": "mGTOOnuEwy8s",
        "outputId": "f720c986-e915-4043-df63-3bafc8cd51f8"
      },
      "execution_count": 59,
      "outputs": [
        {
          "output_type": "stream",
          "name": "stdout",
          "text": [
            "Prediction of Species: ['Iris-setosa' 'Iris-versicolor' 'Iris-virginica']\n"
          ]
        }
      ]
    },
    {
      "cell_type": "code",
      "source": [
        "# Save the model\n",
        "import pickle\n",
        "with open('SVM.pickle', 'wb') as f:\n",
        "    pickle.dump(svn, f)\n",
        "\n",
        "# Load the model\n",
        "with open('SVM.pickle', 'rb') as f:\n",
        "    model = pickle.load(f)\n",
        "model.predict(X_new)"
      ],
      "metadata": {
        "colab": {
          "base_uri": "https://localhost:8080/"
        },
        "id": "jcT--Y_sxRri",
        "outputId": "cf9a9ac8-c629-4d84-c51a-00fc0d09d796"
      },
      "execution_count": 60,
      "outputs": [
        {
          "output_type": "execute_result",
          "data": {
            "text/plain": [
              "array(['Iris-setosa', 'Iris-versicolor', 'Iris-virginica'], dtype=object)"
            ]
          },
          "metadata": {},
          "execution_count": 60
        }
      ]
    }
  ]
}